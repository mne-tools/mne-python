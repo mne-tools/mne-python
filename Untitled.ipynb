{
 "cells": [
  {
   "cell_type": "code",
   "execution_count": 1,
   "id": "8ddf372b",
   "metadata": {},
   "outputs": [
    {
     "name": "stdout",
     "output_type": "stream",
     "text": [
      "Using notebook 3d backend.\n",
      "\n"
     ]
    },
    {
     "data": {
      "application/vnd.jupyter.widget-view+json": {
       "model_id": "154825f462ac43deb5e53d096389d8ea",
       "version_major": 2,
       "version_minor": 0
      },
      "text/plain": [
       "_Window(children=(_VBoxLayout(children=(_MplCanvas(children=(Canvas(toolbar=Toolbar(toolitems=[('Home', 'Reset…"
      ]
     },
     "metadata": {},
     "output_type": "display_data"
    }
   ],
   "source": [
    "%matplotlib widget\n",
    "import mne\n",
    "import matplotlib.pyplot as plt\n",
    "mne.viz.set_3d_backend('notebook')\n",
    "from ipywidgets import Output\n",
    "import threading\n",
    "from mne.viz.backends.renderer import backend\n",
    "window = backend._Window()\n",
    "central_layout = backend._VBoxLayout(scroll=None)\n",
    "canvas = backend._MplCanvas(2, 2, 96)\n",
    "canvas.ax.plot(range(10), range(10), label='plot')\n",
    "central_layout._add_widget(canvas)\n",
    "central_layout._add_widget(backend._Label('test'))\n",
    "central_layout._add_widget(\n",
    "    backend._Text('test', 'placeholder', lambda x: print(x)))\n",
    "central_layout._add_widget(\n",
    "    backend._Button('test2', callback=lambda: print('test3')))\n",
    "central_layout._add_widget(\n",
    "    backend._FileButton(lambda name: print(name), window=window))\n",
    "slider = backend._Slider(0, (0, 100), lambda x: print(x))\n",
    "central_layout._add_widget(slider)\n",
    "central_layout._add_widget(\n",
    "    backend._CheckBox(0, lambda x: print(x)))\n",
    "central_layout._add_widget(\n",
    "    backend._SpinBox(10, (5, 50), lambda x: print(x), step=4))\n",
    "central_layout._add_widget(\n",
    "    backend._ComboBox('40', ('5', '50', '40'), lambda x: print(x)))\n",
    "central_layout._add_widget(\n",
    "    backend._RadioButtons('40', ('5', '50', '40'), lambda x: print(x)))\n",
    "gb = backend._GroupBox('menu', [backend._Button(\n",
    "    f'{i}', callback=lambda: print('test3')) for i in range(5)])\n",
    "gb._set_enabled(False)\n",
    "central_layout._add_widget(gb)\n",
    "# need out just for printing to terminal because of the play\n",
    "# button to slider link\n",
    "out = Output()\n",
    "def play_callback(x):\n",
    "    with out:\n",
    "        print(x)\n",
    "play_menu = backend._PlayMenu(0, (0, 100), play_callback)\n",
    "central_layout._add_widget(play_menu)\n",
    "central_layout._add_widget(out)\n",
    "pb = backend._ProgressBar(100)\n",
    "\n",
    "def update_pb():\n",
    "    pb._increment()\n",
    "    threading.Timer(0.25, update_pb).start()\n",
    "    \n",
    "update_pb()\n",
    "central_layout._add_widget(pb)\n",
    "out = Output()\n",
    "def key_callback(x):\n",
    "    with out:\n",
    "        print(x)\n",
    "window._add_keypress(key_callback)\n",
    "window._set_central_layout(central_layout)\n",
    "window._set_focus()\n",
    "window._show()\n",
    "#dialog = backend._Dialog('Info', 'this is a message', 'test',\n",
    "#                         lambda x: print(x), window=window)"
   ]
  },
  {
   "cell_type": "code",
   "execution_count": 2,
   "id": "f5ed2e40",
   "metadata": {
    "scrolled": false
   },
   "outputs": [
    {
     "data": {
      "application/vnd.jupyter.widget-view+json": {
       "model_id": "b44b3fb9da9c472f8daf702e4c183d15",
       "version_major": 2,
       "version_minor": 0
      },
      "text/plain": [
       "_Window(children=(_VBoxLayout(children=(ViewInteractiveWidget(height=800, layout=Layout(height='auto', margin=…"
      ]
     },
     "metadata": {},
     "output_type": "display_data"
    }
   ],
   "source": [
    "import os.path as op\n",
    "import mne\n",
    "mne.viz.set_3d_backend('notebook')\n",
    "\n",
    "data_path = mne.datasets.sample.data_path()\n",
    "subjects_dir = op.join(data_path, 'subjects')\n",
    "sample_dir = op.join(data_path, 'MEG', 'sample')\n",
    "brain = mne.viz.Brain(subject_id='sample', subjects_dir=subjects_dir)"
   ]
  },
  {
   "cell_type": "code",
   "execution_count": 4,
   "id": "d6d5837d",
   "metadata": {},
   "outputs": [
    {
     "data": {
      "application/vnd.jupyter.widget-view+json": {
       "model_id": "2e20c6b0b17d463d8c011e28ca656638",
       "version_major": 2,
       "version_minor": 0
      },
      "text/plain": [
       "ViewInteractiveWidget(height=400, layout=Layout(height='auto'), width=400)"
      ]
     },
     "metadata": {},
     "output_type": "display_data"
    }
   ],
   "source": [
    "import mne\n",
    "mne.viz.set_3d_backend('notebook')\n",
    "renderer = mne.viz.create_3d_figure((400, 400), show=True)"
   ]
  },
  {
   "cell_type": "code",
   "execution_count": 5,
   "id": "4dde6f08",
   "metadata": {},
   "outputs": [
    {
     "data": {
      "text/plain": [
       "<pyvista.plotting.plotting.Plotter at 0x16b0e4460>"
      ]
     },
     "execution_count": 5,
     "metadata": {},
     "output_type": "execute_result"
    }
   ],
   "source": [
    "renderer.plotter"
   ]
  },
  {
   "cell_type": "code",
   "execution_count": null,
   "id": "fbcb9755",
   "metadata": {},
   "outputs": [],
   "source": []
  }
 ],
 "metadata": {
  "kernelspec": {
   "display_name": "Python 3 (ipykernel)",
   "language": "python",
   "name": "python3"
  },
  "language_info": {
   "codemirror_mode": {
    "name": "ipython",
    "version": 3
   },
   "file_extension": ".py",
   "mimetype": "text/x-python",
   "name": "python",
   "nbconvert_exporter": "python",
   "pygments_lexer": "ipython3",
   "version": "3.9.10"
  }
 },
 "nbformat": 4,
 "nbformat_minor": 5
}
