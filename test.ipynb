{
 "cells": [
  {
   "cell_type": "code",
   "execution_count": 8,
   "metadata": {},
   "outputs": [
    {
     "name": "stdout",
     "output_type": "stream",
     "text": [
      "Dataset testing version 0.152 out of date, latest version is 0.156\n"
     ]
    },
    {
     "name": "stderr",
     "output_type": "stream",
     "text": [
      "Downloading file 'mne-testing-data-0.156.tar.gz' from 'https://codeload.github.com/mne-tools/mne-testing-data/tar.gz/0.156' to 'C:\\Users\\victor.ferat\\mne_data'.\n",
      "0.00B [00:00, ?B/s]     \n",
      "Untarring contents of 'C:\\Users\\victor.ferat\\mne_data\\mne-testing-data-0.156.tar.gz' to 'C:\\Users\\victor.ferat\\mne_data'\n"
     ]
    },
    {
     "name": "stdout",
     "output_type": "stream",
     "text": [
      "Download complete in 05m25s (1046.5 MB)\n"
     ]
    }
   ],
   "source": [
    "# Authors: The MNE-Python contributors.\n",
    "# License: BSD-3-Clause\n",
    "# Copyright the MNE-Python contributors.\n",
    "\n",
    "import base64\n",
    "import glob\n",
    "import os\n",
    "import pickle\n",
    "import re\n",
    "import shutil\n",
    "from io import BytesIO\n",
    "from pathlib import Path\n",
    "\n",
    "import numpy as np\n",
    "import pytest\n",
    "from matplotlib import pyplot as plt\n",
    "\n",
    "from mne import (\n",
    "    Epochs,\n",
    "    create_info,\n",
    "    pick_channels_cov,\n",
    "    read_cov,\n",
    "    read_events,\n",
    "    read_evokeds,\n",
    ")\n",
    "from mne._fiff.write import DATE_NONE\n",
    "from mne.datasets import testing\n",
    "from mne.epochs import make_metadata\n",
    "from mne.io import RawArray, read_info, read_raw_fif\n",
    "from mne.preprocessing import ICA\n",
    "from mne.report import Report, _ReportScraper, open_report, report\n",
    "from mne.report import report as report_mod\n",
    "from mne.report.report import (\n",
    "    _ALLOWED_IMAGE_FORMATS,\n",
    "    CONTENT_ORDER,\n",
    ")\n",
    "from mne.utils import Bunch, _record_warnings\n",
    "from mne.utils._testing import assert_object_equal\n",
    "from mne.viz import plot_alignment\n",
    "\n",
    "data_dir = testing.data_path(download=True)\n",
    "subjects_dir = data_dir / \"subjects\"\n",
    "sample_meg_dir = data_dir / \"MEG\" / \"sample\"\n",
    "raw_fname = sample_meg_dir / \"sample_audvis_trunc_raw.fif\"\n",
    "ms_fname = data_dir / \"SSS\" / \"test_move_anon_raw.fif\"\n",
    "events_fname = sample_meg_dir / \"sample_audvis_trunc_raw-eve.fif\"\n",
    "evoked_fname = sample_meg_dir / \"sample_audvis_trunc-ave.fif\"\n",
    "cov_fname = sample_meg_dir / \"sample_audvis_trunc-cov.fif\"\n",
    "ecg_proj_fname = sample_meg_dir / \"sample_audvis_ecg-proj.fif\"\n",
    "eog_proj_fname = sample_meg_dir / \"sample_audvis_eog-proj.fif\"\n",
    "fwd_fname = sample_meg_dir / \"sample_audvis_trunc-meg-eeg-oct-6-fwd.fif\"\n",
    "trans_fname = sample_meg_dir / \"sample_audvis_trunc-trans.fif\"\n",
    "inv_fname = sample_meg_dir / \"sample_audvis_trunc-meg-eeg-oct-6-meg-inv.fif\"\n",
    "stc_fname = sample_meg_dir / \"sample_audvis_trunc-meg\"\n",
    "mri_fname = subjects_dir / \"sample\" / \"mri\" / \"T1.mgz\"\n",
    "nirs_fname = (\n",
    "    data_dir / \"SNIRF\" / \"NIRx\" / \"NIRSport2\" / \"1.0.3\" / \"2021-05-05_001.snirf\"\n",
    ")\n",
    "stc_plot_kwargs = dict(  # for speed\n",
    "    smoothing_steps=1, size=(300, 300), views=\"lat\", hemi=\"lh\"\n",
    ")\n",
    "topomap_kwargs = dict(res=8, contours=0, sensors=False)\n",
    "\n"
   ]
  },
  {
   "cell_type": "code",
   "execution_count": 10,
   "metadata": {},
   "outputs": [
    {
     "name": "stdout",
     "output_type": "stream",
     "text": [
      "Reading forward solution from C:\\Users\\victor.ferat\\mne_data\\MNE-testing-data\\MEG\\sample\\sample_audvis_trunc-meg-eeg-oct-6-fwd.fif...\n",
      "    Reading a source space...\n",
      "    Computing patch statistics...\n",
      "    Patch information added...\n",
      "    Distance information added...\n",
      "    [done]\n",
      "    Reading a source space...\n",
      "    Computing patch statistics...\n",
      "    Patch information added...\n",
      "    Distance information added...\n",
      "    [done]\n",
      "    2 source spaces read\n",
      "    Desired named matrix (kind = 3523 (FIFF_MNE_FORWARD_SOLUTION_GRAD)) not available\n",
      "    Read MEG forward solution (7928 sources, 306 channels, free orientations)\n",
      "    Desired named matrix (kind = 3523 (FIFF_MNE_FORWARD_SOLUTION_GRAD)) not available\n",
      "    Read EEG forward solution (7928 sources, 60 channels, free orientations)\n",
      "    Forward solutions combined: MEG, EEG\n",
      "    Source spaces transformed to the forward solution coordinate frame\n"
     ]
    }
   ],
   "source": [
    "import mne\n",
    "\n",
    "fwd = mne.read_forward_solution(fwd_fname)\n",
    "if fwd['coord_frame'] == 'head'\n",
    "src = fwd[\"src\"]\n",
    "src_"
   ]
  },
  {
   "cell_type": "code",
   "execution_count": 26,
   "metadata": {},
   "outputs": [
    {
     "name": "stdout",
     "output_type": "stream",
     "text": [
      "Using outer_skin.surf for head surface.\n",
      "Getting helmet for system 306m\n",
      "Channel types::\tgrad: 203, mag: 102, eeg: 59\n",
      "Projecting sensors to the head surface\n"
     ]
    },
    {
     "data": {
      "text/plain": [
       "<mne.viz.backends._pyvista.PyVistaFigure at 0x25d167f2420>"
      ]
     },
     "execution_count": 26,
     "metadata": {},
     "output_type": "execute_result"
    }
   ],
   "source": [
    "mne.viz.plot_alignment(subject=None, trans=fwd[\"mri_head_t\"], info=fwd[\"info\"], src=fwd[\"src\"], eeg=dict(original=0.2, projected=0.8))"
   ]
  },
  {
   "cell_type": "code",
   "execution_count": 27,
   "metadata": {},
   "outputs": [
    {
     "data": {
      "text/plain": [
       "'sample'"
      ]
     },
     "execution_count": 27,
     "metadata": {},
     "output_type": "execute_result"
    }
   ],
   "source": [
    "   fwd[\"src\"]._subject"
   ]
  },
  {
   "cell_type": "code",
   "execution_count": null,
   "metadata": {},
   "outputs": [],
   "source": [
    "info"
   ]
  },
  {
   "cell_type": "code",
   "execution_count": 17,
   "metadata": {},
   "outputs": [
    {
     "data": {
      "text/plain": [
       "<Transform | MRI (surface RAS)->head>\n",
       "[[ 0.99930954  0.00998479 -0.03578702 -0.00316745]\n",
       " [ 0.01275934  0.81240475  0.58295429  0.00685511]\n",
       " [ 0.0348942  -0.58300853  0.81171638  0.02888404]\n",
       " [ 0.          0.          0.          1.        ]]"
      ]
     },
     "execution_count": 17,
     "metadata": {},
     "output_type": "execute_result"
    }
   ],
   "source": [
    "fwd[\"mri_head_t\"]"
   ]
  },
  {
   "cell_type": "code",
   "execution_count": 12,
   "metadata": {},
   "outputs": [
    {
     "name": "stdout",
     "output_type": "stream",
     "text": [
      "Using surface: C:\\Users\\victor.ferat\\mne_data\\MNE-testing-data\\subjects\\sample\\bem\\inner_skull.surf\n",
      "Using surface: C:\\Users\\victor.ferat\\mne_data\\MNE-testing-data\\subjects\\sample\\bem\\outer_skull.surf\n",
      "Using surface: C:\\Users\\victor.ferat\\mne_data\\MNE-testing-data\\subjects\\sample\\bem\\outer_skin.surf\n"
     ]
    },
    {
     "name": "stderr",
     "output_type": "stream",
     "text": [
      "419MB [65:05:16, 1.79kB/s]\n"
     ]
    },
    {
     "ename": "ValueError",
     "evalue": "Source space must be in MRI coordinates, got head",
     "output_type": "error",
     "traceback": [
      "\u001b[1;31m---------------------------------------------------------------------------\u001b[0m",
      "\u001b[1;31mValueError\u001b[0m                                Traceback (most recent call last)",
      "Cell \u001b[1;32mIn[12], line 10\u001b[0m\n\u001b[0;32m      1\u001b[0m plot_bem_kwargs \u001b[38;5;241m=\u001b[39m \u001b[38;5;28mdict\u001b[39m(\n\u001b[0;32m      2\u001b[0m     subject\u001b[38;5;241m=\u001b[39m\u001b[38;5;124m\"\u001b[39m\u001b[38;5;124msample\u001b[39m\u001b[38;5;124m\"\u001b[39m,\n\u001b[0;32m      3\u001b[0m     subjects_dir\u001b[38;5;241m=\u001b[39msubjects_dir,\n\u001b[1;32m   (...)\u001b[0m\n\u001b[0;32m      7\u001b[0m \n\u001b[0;32m      8\u001b[0m )\n\u001b[1;32m---> 10\u001b[0m \u001b[43mmne\u001b[49m\u001b[38;5;241;43m.\u001b[39;49m\u001b[43mviz\u001b[49m\u001b[38;5;241;43m.\u001b[39;49m\u001b[43mplot_bem\u001b[49m\u001b[43m(\u001b[49m\u001b[38;5;241;43m*\u001b[39;49m\u001b[38;5;241;43m*\u001b[39;49m\u001b[43mplot_bem_kwargs\u001b[49m\u001b[43m)\u001b[49m\n",
      "File \u001b[1;32mc:\\Users\\victor.ferat\\Documents\\GitHub\\mne-python\\mne\\viz\\misc.py:722\u001b[0m, in \u001b[0;36mplot_bem\u001b[1;34m(subject, subjects_dir, orientation, slices, brain_surfaces, src, show, show_indices, mri, show_orientation)\u001b[0m\n\u001b[0;32m    716\u001b[0m     \u001b[38;5;28;01mraise\u001b[39;00m \u001b[38;5;167;01mOSError\u001b[39;00m(\n\u001b[0;32m    717\u001b[0m         \u001b[38;5;124m\"\u001b[39m\u001b[38;5;124mNo surface files found. Surface files must end with \u001b[39m\u001b[38;5;124m\"\u001b[39m\n\u001b[0;32m    718\u001b[0m         \u001b[38;5;124m\"\u001b[39m\u001b[38;5;124minner_skull.surf, outer_skull.surf or outer_skin.surf\u001b[39m\u001b[38;5;124m\"\u001b[39m\n\u001b[0;32m    719\u001b[0m     )\n\u001b[0;32m    721\u001b[0m \u001b[38;5;66;03m# Plot the contours\u001b[39;00m\n\u001b[1;32m--> 722\u001b[0m fig \u001b[38;5;241m=\u001b[39m \u001b[43m_plot_mri_contours\u001b[49m\u001b[43m(\u001b[49m\n\u001b[0;32m    723\u001b[0m \u001b[43m    \u001b[49m\u001b[43mmri_fname\u001b[49m\u001b[38;5;241;43m=\u001b[39;49m\u001b[43mmri_fname\u001b[49m\u001b[43m,\u001b[49m\n\u001b[0;32m    724\u001b[0m \u001b[43m    \u001b[49m\u001b[43msurfaces\u001b[49m\u001b[38;5;241;43m=\u001b[39;49m\u001b[43msurfaces\u001b[49m\u001b[43m,\u001b[49m\n\u001b[0;32m    725\u001b[0m \u001b[43m    \u001b[49m\u001b[43msrc\u001b[49m\u001b[38;5;241;43m=\u001b[39;49m\u001b[43msrc\u001b[49m\u001b[43m,\u001b[49m\n\u001b[0;32m    726\u001b[0m \u001b[43m    \u001b[49m\u001b[43morientation\u001b[49m\u001b[38;5;241;43m=\u001b[39;49m\u001b[43morientation\u001b[49m\u001b[43m,\u001b[49m\n\u001b[0;32m    727\u001b[0m \u001b[43m    \u001b[49m\u001b[43mslices\u001b[49m\u001b[38;5;241;43m=\u001b[39;49m\u001b[43mslices\u001b[49m\u001b[43m,\u001b[49m\n\u001b[0;32m    728\u001b[0m \u001b[43m    \u001b[49m\u001b[43mshow\u001b[49m\u001b[38;5;241;43m=\u001b[39;49m\u001b[43mshow\u001b[49m\u001b[43m,\u001b[49m\n\u001b[0;32m    729\u001b[0m \u001b[43m    \u001b[49m\u001b[43mshow_indices\u001b[49m\u001b[38;5;241;43m=\u001b[39;49m\u001b[43mshow_indices\u001b[49m\u001b[43m,\u001b[49m\n\u001b[0;32m    730\u001b[0m \u001b[43m    \u001b[49m\u001b[43mshow_orientation\u001b[49m\u001b[38;5;241;43m=\u001b[39;49m\u001b[43mshow_orientation\u001b[49m\u001b[43m,\u001b[49m\n\u001b[0;32m    731\u001b[0m \u001b[43m    \u001b[49m\u001b[43mslices_as_subplots\u001b[49m\u001b[38;5;241;43m=\u001b[39;49m\u001b[38;5;28;43;01mTrue\u001b[39;49;00m\u001b[43m,\u001b[49m\n\u001b[0;32m    732\u001b[0m \u001b[43m\u001b[49m\u001b[43m)\u001b[49m\n\u001b[0;32m    733\u001b[0m \u001b[38;5;28;01mreturn\u001b[39;00m fig\n",
      "File \u001b[1;32mc:\\Users\\victor.ferat\\Documents\\GitHub\\mne-python\\mne\\viz\\misc.py:444\u001b[0m, in \u001b[0;36m_plot_mri_contours\u001b[1;34m(mri_fname, surfaces, src, orientation, slices, show, show_indices, show_orientation, width, slices_as_subplots)\u001b[0m\n\u001b[0;32m    442\u001b[0m \u001b[38;5;66;03m# Eventually we can relax this by allowing ``trans`` if need be\u001b[39;00m\n\u001b[0;32m    443\u001b[0m \u001b[38;5;28;01mif\u001b[39;00m src[\u001b[38;5;241m0\u001b[39m][\u001b[38;5;124m\"\u001b[39m\u001b[38;5;124mcoord_frame\u001b[39m\u001b[38;5;124m\"\u001b[39m] \u001b[38;5;241m!=\u001b[39m FIFF\u001b[38;5;241m.\u001b[39mFIFFV_COORD_MRI:\n\u001b[1;32m--> 444\u001b[0m     \u001b[38;5;28;01mraise\u001b[39;00m \u001b[38;5;167;01mValueError\u001b[39;00m(\n\u001b[0;32m    445\u001b[0m         \u001b[38;5;124m\"\u001b[39m\u001b[38;5;124mSource space must be in MRI coordinates, got \u001b[39m\u001b[38;5;124m\"\u001b[39m\n\u001b[0;32m    446\u001b[0m         \u001b[38;5;124mf\u001b[39m\u001b[38;5;124m'\u001b[39m\u001b[38;5;132;01m{\u001b[39;00m_frame_to_str[src[\u001b[38;5;241m0\u001b[39m][\u001b[38;5;124m\"\u001b[39m\u001b[38;5;124mcoord_frame\u001b[39m\u001b[38;5;124m\"\u001b[39m]]\u001b[38;5;132;01m}\u001b[39;00m\u001b[38;5;124m'\u001b[39m\n\u001b[0;32m    447\u001b[0m     )\n\u001b[0;32m    448\u001b[0m \u001b[38;5;28;01mfor\u001b[39;00m src_ \u001b[38;5;129;01min\u001b[39;00m src:\n\u001b[0;32m    449\u001b[0m     points \u001b[38;5;241m=\u001b[39m src_[\u001b[38;5;124m\"\u001b[39m\u001b[38;5;124mrr\u001b[39m\u001b[38;5;124m\"\u001b[39m][src_[\u001b[38;5;124m\"\u001b[39m\u001b[38;5;124minuse\u001b[39m\u001b[38;5;124m\"\u001b[39m]\u001b[38;5;241m.\u001b[39mastype(\u001b[38;5;28mbool\u001b[39m)]\n",
      "\u001b[1;31mValueError\u001b[0m: Source space must be in MRI coordinates, got head"
     ]
    }
   ],
   "source": [
    "plot_bem_kwargs = dict(\n",
    "    subject=\"sample\",\n",
    "    subjects_dir=subjects_dir,\n",
    "    brain_surfaces=\"white\",\n",
    "    orientation=\"coronal\",\n",
    "    src=src,\n",
    "\n",
    ")\n",
    "\n",
    "mne.viz.plot_bem(**plot_bem_kwargs)"
   ]
  },
  {
   "cell_type": "code",
   "execution_count": 14,
   "metadata": {},
   "outputs": [
    {
     "ename": "TypeError",
     "evalue": "'SourceEstimate' object is not subscriptable",
     "output_type": "error",
     "traceback": [
      "\u001b[1;31m---------------------------------------------------------------------------\u001b[0m",
      "\u001b[1;31mTypeError\u001b[0m                                 Traceback (most recent call last)",
      "Cell \u001b[1;32mIn[14], line 2\u001b[0m\n\u001b[0;32m      1\u001b[0m stc \u001b[38;5;241m=\u001b[39m mne\u001b[38;5;241m.\u001b[39mread_source_estimate(stc_fname)\n\u001b[1;32m----> 2\u001b[0m \u001b[43mstc\u001b[49m\u001b[43m[\u001b[49m\u001b[38;5;124;43m'\u001b[39;49m\u001b[38;5;124;43msrc\u001b[39;49m\u001b[38;5;124;43m'\u001b[39;49m\u001b[43m]\u001b[49m\n",
      "\u001b[1;31mTypeError\u001b[0m: 'SourceEstimate' object is not subscriptable"
     ]
    }
   ],
   "source": [
    "stc = mne.read_source_estimate(stc_fname)\n",
    "stc"
   ]
  },
  {
   "cell_type": "code",
   "execution_count": null,
   "metadata": {},
   "outputs": [],
   "source": []
  }
 ],
 "metadata": {
  "kernelspec": {
   "display_name": "mne_dev",
   "language": "python",
   "name": "python3"
  },
  "language_info": {
   "codemirror_mode": {
    "name": "ipython",
    "version": 3
   },
   "file_extension": ".py",
   "mimetype": "text/x-python",
   "name": "python",
   "nbconvert_exporter": "python",
   "pygments_lexer": "ipython3",
   "version": "3.12.4"
  }
 },
 "nbformat": 4,
 "nbformat_minor": 2
}
