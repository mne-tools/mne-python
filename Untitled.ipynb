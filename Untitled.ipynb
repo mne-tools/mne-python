{
 "cells": [
  {
   "cell_type": "code",
   "execution_count": 1,
   "metadata": {},
   "outputs": [],
   "source": [
    "import numpy as np\n",
    "import matplotlib\n",
    "# matplotlib.use(\"macOSX\")\n",
    "import matplotlib.pyplot as plt\n",
    "from scipy.io import loadmat\n",
    "\n",
    "from sklearn.preprocessing import StandardScaler\n",
    "\n",
    "import mne\n",
    "from mne.viz import plot_alignment, snapshot_brain_montage"
   ]
  },
  {
   "cell_type": "code",
   "execution_count": 2,
   "metadata": {},
   "outputs": [],
   "source": [
    "%matplotlib inline"
   ]
  },
  {
   "cell_type": "code",
   "execution_count": 3,
   "metadata": {},
   "outputs": [
    {
     "name": "stdout",
     "output_type": "stream",
     "text": [
      "['C1', 'C2', 'C3', 'C4', 'C5', 'C6', 'C7', 'C8', 'C9', 'C10', 'C11', 'C12', 'C13', 'C14', 'C15', 'C16', 'C17', 'C18', 'C19', 'C20', 'C21', 'C22', 'C23', 'C24', 'C25', 'C26', 'C27', 'C28', 'C29', 'C30', 'C31', 'C32', 'C33', 'C34', 'C35', 'C36', 'C37', 'C38', 'C39', 'C40', 'C41', 'C42', 'C43', 'C44', 'C45', 'C46', 'C47', 'C48', 'C49', 'C50', 'C51', 'C52', 'C53', 'C54', 'C55', 'C56', 'C57', 'C58', 'C59', 'C60', 'C61', 'C62', 'C63', 'C64']\n",
      "{'C1': array([-0.0132, -0.0654,  0.0702]), 'C2': array([-0.0145, -0.0594,  0.0781]), 'C3': array([-0.0156, -0.0518,  0.0838]), 'C4': array([-0.0154, -0.0453,  0.0895]), 'C5': array([-0.0149, -0.0385,  0.094 ]), 'C6': array([-0.0131, -0.029 ,  0.0985]), 'C7': array([-0.0136, -0.0203,  0.1009]), 'C8': array([-0.0109, -0.0093,  0.1035]), 'C9': array([-0.0215, -0.0664,  0.0691]), 'C10': array([-0.0233, -0.0607,  0.0769]), 'C11': array([-0.0247, -0.0534,  0.0822]), 'C12': array([-0.0263, -0.0461,  0.0871]), 'C13': array([-0.0261, -0.0383,  0.0918]), 'C14': array([-0.0253, -0.0299,  0.0949]), 'C15': array([-0.0233, -0.0193,  0.0989]), 'C16': array([-0.0211, -0.008 ,  0.1026]), 'C17': array([-0.0304, -0.0674,  0.0678]), 'C18': array([-0.0328, -0.061 ,  0.0738]), 'C19': array([-0.0337, -0.0539,  0.0793]), 'C20': array([-0.0344, -0.0466,  0.0842]), 'C21': array([-0.0363, -0.0388,  0.0878]), 'C22': array([-0.0345, -0.0288,  0.0926]), 'C23': array([-0.0335, -0.018 ,  0.0955]), 'C24': array([-0.0299, -0.008 ,  0.0977]), 'C25': array([-0.0395, -0.0661,  0.0632]), 'C26': array([-0.0417, -0.0599,  0.069 ]), 'C27': array([-0.0426, -0.0529,  0.0744]), 'C28': array([-0.0438, -0.0456,  0.0795]), 'C29': array([-0.0457, -0.0376,  0.083 ]), 'C30': array([-0.0446, -0.0273,  0.0881]), 'C31': array([-0.043 , -0.0176,  0.0901]), 'C32': array([-0.0396, -0.0063,  0.0884]), 'C33': array([-0.0446, -0.0657,  0.0581]), 'C34': array([-0.0482, -0.0593,  0.0632]), 'C35': array([-0.0505, -0.0523,  0.0694]), 'C36': array([-0.0536, -0.0438,  0.0731]), 'C37': array([-0.0548, -0.0357,  0.0769]), 'C38': array([-0.0533, -0.0254,  0.0808]), 'C39': array([-0.0512, -0.0156,  0.0823]), 'C40': array([-0.0473, -0.0044,  0.0808]), 'C41': array([-0.0518, -0.0637,  0.0513]), 'C42': array([-0.055 , -0.0572,  0.0574]), 'C43': array([-0.0575, -0.0501,  0.0625]), 'C44': array([-0.0606, -0.0414,  0.0666]), 'C45': array([-0.0614, -0.0334,  0.0709]), 'C46': array([-0.0612, -0.023 ,  0.0733]), 'C47': array([-0.0589, -0.0135,  0.0743]), 'C48': array([-0.0553, -0.0025,  0.0739]), 'C49': array([-0.0575, -0.0605,  0.0455]), 'C50': array([-0.0615, -0.0536,  0.05  ]), 'C51': array([-0.0635, -0.0474,  0.0554]), 'C52': array([-0.066 , -0.0385,  0.0584]), 'C53': array([-0.0671, -0.0306,  0.063 ]), 'C54': array([-0.0672, -0.0204,  0.0644]), 'C55': array([-0.0643, -0.0112,  0.0638]), 'C56': array([-0.0602, -0.0007,  0.064 ]), 'C57': array([-0.0614, -0.0574,  0.0372]), 'C58': array([-0.0659, -0.05  ,  0.0412]), 'C59': array([-0.0681, -0.0434,  0.0463]), 'C60': array([-0.0694, -0.0357,  0.0503]), 'C61': array([-0.0704, -0.0277,  0.053 ]), 'C62': array([-0.0705, -0.0177,  0.0541]), 'C63': array([-0.068 , -0.0074,  0.053 ]), 'C64': array([-0.0642,  0.0016,  0.0539])}\n"
     ]
    }
   ],
   "source": [
    "\n",
    "mat = loadmat(mne.datasets.misc.data_path() + '/ecog/sample_ecog.mat')\n",
    "ch_names = mat['ch_names'].tolist()\n",
    "elec = mat['elec']  # electrode positions given in meters\n",
    "\n",
    "from mne_bids.tsv_handler import _from_tsv\n",
    "elec_tsv = _from_tsv(mne.datasets.misc.data_path() + '/ecog/sample_ecog_electrodes.tsv')\n",
    "ch_names = elec_tsv['name']\n",
    "ch_coords = np.vstack((elec_tsv['x'], elec_tsv['y'], elec_tsv['z'])).T.astype(float)\n",
    "ch_pos = dict(zip(ch_names, ch_coords))\n",
    "montage = mne.channels.make_dig_montage(ch_pos,\n",
    "                                        coord_frame='head')\n",
    "print(ch_names)\n",
    "print(ch_pos)"
   ]
  },
  {
   "cell_type": "code",
   "execution_count": 4,
   "metadata": {},
   "outputs": [
    {
     "name": "stdout",
     "output_type": "stream",
     "text": [
      "Extracting EDF parameters from /Users/adam2392/mne_data/MNE-misc-data/ecog/sample_ecog.edf...\n",
      "EDF file detected\n",
      "Setting channel info structure...\n",
      "Creating raw.info structure...\n",
      "1 matching events found\n",
      "No baseline correction applied\n",
      "Not setting metadata\n",
      "0 projection items activated\n",
      "0 bad epochs dropped\n",
      "<EpochsArray  |   1 events (all good), 0 - 21.6697 sec, baseline off, ~13.1 MB, data loaded,\n",
      " '1': 1>\n"
     ]
    },
    {
     "name": "stderr",
     "output_type": "stream",
     "text": [
      "<ipython-input-4-bc4ce583407c>:19: RuntimeWarning: DigMontage is only a subset of info. There are 14 channel positions not present in the DigMontage. The required channels are: ['BTM1', 'BTM2', 'BTM3', 'BTM4', 'BTM5', 'BTM6', 'BTP1', 'BTP2', 'BTP3', 'BTP4', 'BTP5', 'BTP6', 'EKGL', 'EKGR']\n",
      "  raw.set_montage(montage, on_missing='warn')\n"
     ]
    },
    {
     "name": "stdout",
     "output_type": "stream",
     "text": [
      "<AverageTFR  |  time : [0.000000, 21.669739], freq : [30.000000, 90.000000], nave : 1, channels : 64, ~634.7 MB>\n",
      "(64,)\n"
     ]
    }
   ],
   "source": [
    "###############################################################################\n",
    "# Now that we have our electrode positions in MRI coordinates, we can create\n",
    "# our measurement info structure.\n",
    "\n",
    "info = mne.create_info(ch_names, 1000., 'ecog').set_montage(montage)\n",
    "\n",
    "###############################################################################\n",
    "# Now that we have our electrode positions in MRI coordinates, we can load in\n",
    "# our corresponding time-series data. We then compute a time-frequency\n",
    "# representation of the data (i.e. 1-30, or 30-90 Hz).\n",
    "\n",
    "# first we'll load in the sample dataset\n",
    "raw = mne.io.read_raw_edf(mne.datasets.misc.data_path() + '/ecog/sample_ecog.edf')\n",
    "\n",
    "# drop bad channels\n",
    "raw.info['bads'].extend([ch for ch in raw.ch_names if ch not in ch_names])\n",
    "\n",
    "# attach montage\n",
    "raw.set_montage(montage, on_missing='warn')\n",
    "\n",
    "# perform gamma band frequency\n",
    "epoch = mne.EpochsArray(raw.get_data()[np.newaxis, ...], info=raw.info)\n",
    "print(epoch)\n",
    "# print(epoch.shape)\n",
    "tfr_pwr, _ = mne.time_frequency.tfr_morlet(epoch, freqs=np.linspace(30, 90, 60),\n",
    "                                                 n_cycles=3)\n",
    "print(tfr_pwr)\n",
    "# Define an arbitrary \"activity\" pattern for viz\n",
    "gamma_activity = tfr_pwr.data.mean(axis=(1, 2))\n",
    "print(gamma_activity.shape)\n",
    "gamma_activity = StandardScaler().fit_transform(gamma_activity[:, np.newaxis])\n",
    "\n",
    "tfr_pwr, _ = mne.time_frequency.tfr_morlet(epoch, freqs=np.linspace(1, 30, 60),\n",
    "                                                 n_cycles=3)\n",
    "low_activity = tfr_pwr.data.mean(axis=(1, 2))\n",
    "low_activity = StandardScaler().fit_transform(low_activity[:, np.newaxis])"
   ]
  },
  {
   "cell_type": "code",
   "execution_count": 5,
   "metadata": {},
   "outputs": [
    {
     "name": "stdout",
     "output_type": "stream",
     "text": [
      "[[ 0.30451935]\n",
      " [ 0.35250178]\n",
      " [ 0.18202274]\n",
      " [ 0.4322955 ]\n",
      " [ 0.40049513]\n",
      " [-0.72390702]\n",
      " [-0.72394051]\n",
      " [-0.78456946]\n",
      " [-0.36576045]\n",
      " [-0.96004766]\n",
      " [-0.97569081]\n",
      " [-0.87451106]\n",
      " [ 0.91036912]\n",
      " [-0.31239582]\n",
      " [-0.43099794]\n",
      " [-0.5732088 ]\n",
      " [ 0.53345374]\n",
      " [-0.91170083]\n",
      " [-0.32429372]\n",
      " [-0.95974625]\n",
      " [-0.56329589]\n",
      " [ 2.94155747]\n",
      " [-0.66383375]\n",
      " [-0.50243725]\n",
      " [ 3.00058893]\n",
      " [-0.62034532]\n",
      " [ 0.61977523]\n",
      " [-0.2694325 ]\n",
      " [ 2.1429474 ]\n",
      " [-0.98527046]\n",
      " [ 1.41722789]\n",
      " [-0.29688988]\n",
      " [-0.94528061]\n",
      " [ 0.54137737]\n",
      " [ 0.74136725]\n",
      " [ 0.0561976 ]\n",
      " [ 0.35904437]\n",
      " [-0.76816171]\n",
      " [-0.26112042]\n",
      " [-0.56606875]\n",
      " [ 1.82960786]\n",
      " [-0.56582553]\n",
      " [-0.96589049]\n",
      " [-0.77386745]\n",
      " [-0.74182428]\n",
      " [-0.09146056]\n",
      " [-0.83655471]\n",
      " [-0.86970308]\n",
      " [ 0.4025748 ]\n",
      " [ 0.01829472]\n",
      " [ 1.54093715]\n",
      " [-0.9543623 ]\n",
      " [ 0.23369796]\n",
      " [-0.94776997]\n",
      " [ 0.53692862]\n",
      " [-0.90618744]\n",
      " [ 0.0845006 ]\n",
      " [ 0.30365762]\n",
      " [-0.92670967]\n",
      " [ 2.94938329]\n",
      " [ 0.48295688]\n",
      " [-0.92060875]\n",
      " [ 1.36967559]\n",
      " [ 0.17571516]]\n"
     ]
    }
   ],
   "source": [
    "print(gamma_activity)"
   ]
  },
  {
   "cell_type": "markdown",
   "metadata": {},
   "source": [
    "# Visualize Brain"
   ]
  },
  {
   "cell_type": "code",
   "execution_count": 6,
   "metadata": {},
   "outputs": [
    {
     "name": "stdout",
     "output_type": "stream",
     "text": [
      "Plotting 64 ecog locations\n",
      "Using mayavi 3d backend.\n",
      "\n"
     ]
    }
   ],
   "source": [
    "subjects_dir = mne.datasets.sample.data_path() + '/subjects'\n",
    "fig = plot_alignment(info, subject='sample', subjects_dir=subjects_dir,\n",
    "                     surfaces=['pial'])\n",
    "mne.viz.set_3d_view(fig, 200, 70)"
   ]
  },
  {
   "cell_type": "code",
   "execution_count": null,
   "metadata": {},
   "outputs": [],
   "source": []
  }
 ],
 "metadata": {
  "kernelspec": {
   "display_name": "neurologic",
   "language": "python",
   "name": "neurologic"
  },
  "language_info": {
   "codemirror_mode": {
    "name": "ipython",
    "version": 3
   },
   "file_extension": ".py",
   "mimetype": "text/x-python",
   "name": "python",
   "nbconvert_exporter": "python",
   "pygments_lexer": "ipython3",
   "version": "3.7.6"
  }
 },
 "nbformat": 4,
 "nbformat_minor": 2
}
