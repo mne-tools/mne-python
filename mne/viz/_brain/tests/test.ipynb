{
 "cells": [
  {
   "cell_type": "code",
   "execution_count": null,
   "metadata": {},
   "outputs": [],
   "source": [
    "import mne\n",
    "from mne.datasets import testing\n",
    "data_path = testing.data_path()\n",
    "raw_fname = data_path + '/MEG/sample/sample_audvis_trunc_raw.fif'\n",
    "subjects_dir = data_path + '/subjects'\n",
    "subject = 'sample'\n",
    "trans = data_path + '/MEG/sample/sample_audvis_trunc-trans.fif'\n",
    "info = mne.io.read_info(raw_fname)\n",
    "mne.viz.set_3d_backend('notebook')\n",
    "mne.viz.plot_alignment(info, trans, subject=subject, dig=True,\n",
    "                       meg=['helmet', 'sensors'], subjects_dir=subjects_dir,\n",
    "                       surfaces=['head-dense'])"
   ]
  },
  {
   "cell_type": "code",
   "execution_count": null,
   "metadata": {},
   "outputs": [],
   "source": [
    "import os\n",
    "import mne\n",
    "from mne.datasets import testing\n",
    "data_path = testing.data_path()\n",
    "sample_dir = os.path.join(data_path, 'MEG', 'sample')\n",
    "subjects_dir = os.path.join(data_path, 'subjects')\n",
    "fname_stc = os.path.join(sample_dir, 'sample_audvis_trunc-meg')\n",
    "stc = mne.read_source_estimate(fname_stc, subject='sample')\n",
    "initial_time = 0.13\n",
    "mne.viz.set_3d_backend('notebook')\n",
    "brain = stc.plot(subjects_dir=subjects_dir, initial_time=initial_time,\n",
    "                 clim=dict(kind='value', pos_lims=[3, 6, 9]),\n",
    "                 time_viewer=True,\n",
    "                 hemi='split')"
   ]
  }
 ],
 "metadata": {
  "language_info": {
   "codemirror_mode": {
    "name": "ipython",
    "version": 3
   },
   "file_extension": ".py",
   "mimetype": "text/x-python",
   "name": "python",
   "nbconvert_exporter": "python",
   "pygments_lexer": "ipython3",
   "version": "3.7.5"
  }
 },
 "nbformat": 4,
 "nbformat_minor": 4
}