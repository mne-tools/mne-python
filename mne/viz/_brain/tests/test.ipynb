{
 "cells": [
  {
   "cell_type": "code",
   "execution_count": null,
   "metadata": {},
   "outputs": [],
   "source": [
    "import mne\n",
    "from mne.datasets import testing\n",
    "data_path = testing.data_path()\n",
    "raw_fname = data_path + '/MEG/sample/sample_audvis_trunc_raw.fif'\n",
    "subjects_dir = data_path + '/subjects'\n",
    "subject = 'sample'\n",
    "trans = data_path + '/MEG/sample/sample_audvis_trunc-trans.fif'\n",
    "info = mne.io.read_info(raw_fname)\n",
    "mne.viz.set_3d_backend('notebook')\n",
    "fig = mne.viz.plot_alignment(info, trans, subject=subject, dig=True,\n",
    "                             meg=['helmet', 'sensors'], subjects_dir=subjects_dir,\n",
    "                             surfaces=['head-dense'])\n",
    "assert fig.display is not None"
   ]
  },
  {
   "cell_type": "code",
   "execution_count": null,
   "metadata": {},
   "outputs": [],
   "source": [
    "import os\n",
    "import mne\n",
    "from ipywidgets import Button\n",
    "import matplotlib.pyplot as plt\n",
    "from mne.datasets import testing\n",
    "data_path = testing.data_path()\n",
    "sample_dir = os.path.join(data_path, 'MEG', 'sample')\n",
    "subjects_dir = os.path.join(data_path, 'subjects')\n",
    "fname_stc = os.path.join(sample_dir, 'sample_audvis_trunc-meg')\n",
    "stc = mne.read_source_estimate(fname_stc, subject='sample')\n",
    "initial_time = 0.13\n",
    "mne.viz.set_3d_backend('notebook')\n",
    "brain_class = mne.viz.get_brain_class()\n",
    "for interactive_state in (False, True):\n",
    "    plt.interactive(interactive_state)\n",
    "    brain = stc.plot(subjects_dir=subjects_dir, initial_time=initial_time,\n",
    "                     clim=dict(kind='value', pos_lims=[3, 6, 9]),\n",
    "                     time_viewer=True,\n",
    "                     show_traces=True,\n",
    "                     hemi='split')\n",
    "    assert isinstance(brain, brain_class)\n",
    "    assert brain.notebook\n",
    "    assert brain._renderer.figure.display is not None\n",
    "    brain._update()\n",
    "    total_number_of_buttons = len([k for k in brain.actions.keys() if '_field' not in k])\n",
    "    number_of_buttons = 0\n",
    "    for action in brain.actions.values():\n",
    "        if isinstance(action, Button):\n",
    "            action.click()\n",
    "            number_of_buttons += 1\n",
    "    assert number_of_buttons == total_number_of_buttons\n",
    "    img1 = brain.screenshot(time_viewer=False)\n",
    "    img2 = brain.screenshot(time_viewer=True)\n",
    "    assert img1.shape[0] < img2.shape[0]\n",
    "    brain.close()"
   ]
  },
  {
   "cell_type": "code",
   "execution_count": null,
   "metadata": {},
   "outputs": [],
   "source": [
    "import mne\n",
    "mne.viz.set_3d_backend('notebook')\n",
    "rend = mne.viz.create_3d_figure(size=(100, 100), scene=False)\n",
    "fig = rend.scene()\n",
    "mne.viz.set_3d_title(fig, 'Notebook testing')\n",
    "mne.viz.set_3d_view(fig, 200, 70, focalpoint=[0, 0, 0])\n",
    "assert fig.display is None\n",
    "rend.show()\n",
    "total_number_of_buttons = len([k for k in rend.actions.keys() if '_field' not in k])\n",
    "number_of_buttons = 0\n",
    "for action in rend.actions.values():\n",
    "    if isinstance(action, Button):\n",
    "        action.click()\n",
    "        number_of_buttons += 1\n",
    "assert number_of_buttons == total_number_of_buttons\n",
    "assert fig.display is not None"
   ]
  }
 ],
 "metadata": {
  "language_info": {
   "codemirror_mode": {
    "name": "ipython",
    "version": 3
   },
   "file_extension": ".py",
   "mimetype": "text/x-python",
   "name": "python",
   "nbconvert_exporter": "python",
   "pygments_lexer": "ipython3",
   "version": "3.7.5"
  }
 },
 "nbformat": 4,
 "nbformat_minor": 4
}
